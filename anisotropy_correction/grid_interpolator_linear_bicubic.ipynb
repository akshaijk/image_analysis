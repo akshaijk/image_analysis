{
  "cells": [
    {
      "cell_type": "code",
      "execution_count": null,
      "metadata": {
        "id": "Neq93el1vyno"
      },
      "outputs": [],
      "source": [
        "#load the dependencies\n",
        "from scipy.interpolate import RegularGridInterpolator\n",
        "from skimage import io, img_as_ubyte\n",
        "from matplotlib import pyplot as plt\n",
        "import numpy as np\n",
        "from tifffile import imsave, imwrite"
      ]
    },
    {
      "cell_type": "code",
      "execution_count": null,
      "metadata": {
        "colab": {
          "base_uri": "https://localhost:8080/"
        },
        "id": "cs_CN0M3ky5F",
        "outputId": "d2576f87-7576-41e4-a2ec-eeaa52b700e4"
      },
      "outputs": [
        {
          "name": "stdout",
          "output_type": "stream",
          "text": [
            "Mounted at /content/drive\n"
          ]
        }
      ],
      "source": [
        "# mount google drive\n",
        "from google.colab import drive\n",
        "drive.mount('/content/drive')"
      ]
    },
    {
      "cell_type": "code",
      "execution_count": null,
      "metadata": {
        "id": "8G4rFfk7wTSF"
      },
      "outputs": [],
      "source": [
        "\n",
        "input_image = io.imread(\"/content/512_512_3D_stardist_test.tif\")"
      ]
    },
    {
      "cell_type": "code",
      "execution_count": null,
      "metadata": {
        "colab": {
          "base_uri": "https://localhost:8080/"
        },
        "id": "33V4sGFhwr8F",
        "outputId": "55984080-f24c-4639-c64a-35a4ee1cec78"
      },
      "outputs": [
        {
          "data": {
            "text/plain": [
              "(68, 512, 512)"
            ]
          },
          "execution_count": 5,
          "metadata": {},
          "output_type": "execute_result"
        }
      ],
      "source": [
        "input_image.shape\n",
        "# (50 x 800 x 800) at 40x10x10 nm"
      ]
    },
    {
      "cell_type": "code",
      "execution_count": null,
      "metadata": {
        "id": "bD-oPBLlxnX9"
      },
      "outputs": [],
      "source": [
        "pixelsize_old = 0.65\n",
        "slice_thickness_old = 2.45\n",
        "\n",
        "pixelsize_new = 0.65\n",
        "slice_thickness_new = 0.65"
      ]
    },
    {
      "cell_type": "markdown",
      "metadata": {
        "id": "zbJBSIhN0QWK"
      },
      "source": [
        "Create arrays x_old, y_old, and z_old to represent the coordinates of the input image along the x, y, and z axes respectively, based on the shape and pixel size information of the input image."
      ]
    },
    {
      "cell_type": "code",
      "execution_count": null,
      "metadata": {
        "id": "Z0DdHDRBw3kd"
      },
      "outputs": [],
      "source": [
        "x_old = np.linspace(0, (input_image.shape[1]-1)*pixelsize_old, input_image.shape[1])\n",
        "y_old = np.linspace(0, (input_image.shape[2]-1)*pixelsize_old, input_image.shape[2])\n",
        "z_old = np.arange(0, (input_image.shape[0]))*slice_thickness_old"
      ]
    },
    {
      "cell_type": "code",
      "execution_count": null,
      "metadata": {
        "colab": {
          "base_uri": "https://localhost:8080/"
        },
        "id": "9FwG32qsyJb1",
        "outputId": "f77a72ed-4ef0-4582-fe10-2df8f812315e"
      },
      "outputs": [
        {
          "name": "stdout",
          "output_type": "stream",
          "text": [
            "[  0.     0.65   1.3    1.95   2.6    3.25   3.9    4.55   5.2    5.85\n",
            "   6.5    7.15   7.8    8.45   9.1    9.75  10.4   11.05  11.7   12.35\n",
            "  13.    13.65  14.3   14.95  15.6   16.25  16.9   17.55  18.2   18.85\n",
            "  19.5   20.15  20.8   21.45  22.1   22.75  23.4   24.05  24.7   25.35\n",
            "  26.    26.65  27.3   27.95  28.6   29.25  29.9   30.55  31.2   31.85\n",
            "  32.5   33.15  33.8   34.45  35.1   35.75  36.4   37.05  37.7   38.35\n",
            "  39.    39.65  40.3   40.95  41.6   42.25  42.9   43.55  44.2   44.85\n",
            "  45.5   46.15  46.8   47.45  48.1   48.75  49.4   50.05  50.7   51.35\n",
            "  52.    52.65  53.3   53.95  54.6   55.25  55.9   56.55  57.2   57.85\n",
            "  58.5   59.15  59.8   60.45  61.1   61.75  62.4   63.05  63.7   64.35\n",
            "  65.    65.65  66.3   66.95  67.6   68.25  68.9   69.55  70.2   70.85\n",
            "  71.5   72.15  72.8   73.45  74.1   74.75  75.4   76.05  76.7   77.35\n",
            "  78.    78.65  79.3   79.95  80.6   81.25  81.9   82.55  83.2   83.85\n",
            "  84.5   85.15  85.8   86.45  87.1   87.75  88.4   89.05  89.7   90.35\n",
            "  91.    91.65  92.3   92.95  93.6   94.25  94.9   95.55  96.2   96.85\n",
            "  97.5   98.15  98.8   99.45 100.1  100.75 101.4  102.05 102.7  103.35\n",
            " 104.   104.65 105.3  105.95 106.6  107.25 107.9  108.55 109.2  109.85\n",
            " 110.5  111.15 111.8  112.45 113.1  113.75 114.4  115.05 115.7  116.35\n",
            " 117.   117.65 118.3  118.95 119.6  120.25 120.9  121.55 122.2  122.85\n",
            " 123.5  124.15 124.8  125.45 126.1  126.75 127.4  128.05 128.7  129.35\n",
            " 130.   130.65 131.3  131.95 132.6  133.25 133.9  134.55 135.2  135.85\n",
            " 136.5  137.15 137.8  138.45 139.1  139.75 140.4  141.05 141.7  142.35\n",
            " 143.   143.65 144.3  144.95 145.6  146.25 146.9  147.55 148.2  148.85\n",
            " 149.5  150.15 150.8  151.45 152.1  152.75 153.4  154.05 154.7  155.35\n",
            " 156.   156.65 157.3  157.95 158.6  159.25 159.9  160.55 161.2  161.85\n",
            " 162.5  163.15 163.8  164.45 165.1  165.75 166.4  167.05 167.7  168.35\n",
            " 169.   169.65 170.3  170.95 171.6  172.25 172.9  173.55 174.2  174.85\n",
            " 175.5  176.15 176.8  177.45 178.1  178.75 179.4  180.05 180.7  181.35\n",
            " 182.   182.65 183.3  183.95 184.6  185.25 185.9  186.55 187.2  187.85\n",
            " 188.5  189.15 189.8  190.45 191.1  191.75 192.4  193.05 193.7  194.35\n",
            " 195.   195.65 196.3  196.95 197.6  198.25 198.9  199.55 200.2  200.85\n",
            " 201.5  202.15 202.8  203.45 204.1  204.75 205.4  206.05 206.7  207.35\n",
            " 208.   208.65 209.3  209.95 210.6  211.25 211.9  212.55 213.2  213.85\n",
            " 214.5  215.15 215.8  216.45 217.1  217.75 218.4  219.05 219.7  220.35\n",
            " 221.   221.65 222.3  222.95 223.6  224.25 224.9  225.55 226.2  226.85\n",
            " 227.5  228.15 228.8  229.45 230.1  230.75 231.4  232.05 232.7  233.35\n",
            " 234.   234.65 235.3  235.95 236.6  237.25 237.9  238.55 239.2  239.85\n",
            " 240.5  241.15 241.8  242.45 243.1  243.75 244.4  245.05 245.7  246.35\n",
            " 247.   247.65 248.3  248.95 249.6  250.25 250.9  251.55 252.2  252.85\n",
            " 253.5  254.15 254.8  255.45 256.1  256.75 257.4  258.05 258.7  259.35\n",
            " 260.   260.65 261.3  261.95 262.6  263.25 263.9  264.55 265.2  265.85\n",
            " 266.5  267.15 267.8  268.45 269.1  269.75 270.4  271.05 271.7  272.35\n",
            " 273.   273.65 274.3  274.95 275.6  276.25 276.9  277.55 278.2  278.85\n",
            " 279.5  280.15 280.8  281.45 282.1  282.75 283.4  284.05 284.7  285.35\n",
            " 286.   286.65 287.3  287.95 288.6  289.25 289.9  290.55 291.2  291.85\n",
            " 292.5  293.15 293.8  294.45 295.1  295.75 296.4  297.05 297.7  298.35\n",
            " 299.   299.65 300.3  300.95 301.6  302.25 302.9  303.55 304.2  304.85\n",
            " 305.5  306.15 306.8  307.45 308.1  308.75 309.4  310.05 310.7  311.35\n",
            " 312.   312.65 313.3  313.95 314.6  315.25 315.9  316.55 317.2  317.85\n",
            " 318.5  319.15 319.8  320.45 321.1  321.75 322.4  323.05 323.7  324.35\n",
            " 325.   325.65 326.3  326.95 327.6  328.25 328.9  329.55 330.2  330.85\n",
            " 331.5  332.15]\n"
          ]
        }
      ],
      "source": [
        "print(x_old) # With spacing 10 the result would be: array([   0.,   10.,   20.,   30., ......]"
      ]
    },
    {
      "cell_type": "code",
      "execution_count": null,
      "metadata": {
        "colab": {
          "base_uri": "https://localhost:8080/"
        },
        "id": "6vRVOnv11liR",
        "outputId": "6e251f0b-5ec7-4b31-d6f8-ea32a45a6955"
      },
      "outputs": [
        {
          "name": "stdout",
          "output_type": "stream",
          "text": [
            "[  0.     2.45   4.9    7.35   9.8   12.25  14.7   17.15  19.6   22.05\n",
            "  24.5   26.95  29.4   31.85  34.3   36.75  39.2   41.65  44.1   46.55\n",
            "  49.    51.45  53.9   56.35  58.8   61.25  63.7   66.15  68.6   71.05\n",
            "  73.5   75.95  78.4   80.85  83.3   85.75  88.2   90.65  93.1   95.55\n",
            "  98.   100.45 102.9  105.35 107.8  110.25 112.7  115.15 117.6  120.05\n",
            " 122.5  124.95 127.4  129.85 132.3  134.75 137.2  139.65 142.1  144.55\n",
            " 147.   149.45 151.9  154.35 156.8  159.25 161.7  164.15]\n"
          ]
        }
      ],
      "source": [
        "print(z_old) # # With spacing 40 the result would be: array([    0,   40,   80,  120,  ......]"
      ]
    },
    {
      "cell_type": "markdown",
      "metadata": {
        "id": "wSxn5WFTBTKH"
      },
      "source": [
        "Pick appropriate method for interpolation. Based on your data size, you may be restricted to using linear as others require large amount of memory."
      ]
    },
    {
      "cell_type": "code",
      "execution_count": null,
      "metadata": {
        "id": "VFRlyC1E4OJV"
      },
      "outputs": [],
      "source": [
        "method = \"linear\"    # “linear”, “nearest”, “slinear”, “cubic”, “quintic” and “pchip”"
      ]
    },
    {
      "cell_type": "markdown",
      "metadata": {
        "id": "TB5Bb7U30c_n"
      },
      "source": [
        " Create a RegularGridInterpolator object using the old coordinates and the input image data. This object will be used to perform the interpolation.<p>\n",
        " The underlying algorithm used by RegularGridInterpolator is known as piecewise linear interpolation. It works by dividing the grid into smaller hypercubes and performing linear interpolation within each hypercube. <p>\n",
        " When you create an instance of RegularGridInterpolator, you provide the grid points and the corresponding values at those points. Once you have created the interpolator, you can use it to evaluate the interpolated values at any point within the grid's bounding box. The interpolator uses the provided grid points and values to determine the hypercube that contains the target point. It then performs linear interpolation within that hypercube to compute the interpolated value. <p>\n",
        " RegularGridInterpolator also allows for extrapolation, which means it can compute interpolated values even for points outside the original grid's bounding box. By default, it uses the boundary values of the grid for extrapolation, but you can also specify custom boundary conditions if needed."
      ]
    },
    {
      "cell_type": "code",
      "execution_count": null,
      "metadata": {
        "id": "jMzllbUNzHbE"
      },
      "outputs": [],
      "source": [
        " my_interpolating_object = RegularGridInterpolator((z_old, x_old, y_old), input_image, method=method, bounds_error=False)"
      ]
    },
    {
      "cell_type": "markdown",
      "metadata": {
        "id": "HeGezK0V0iAu"
      },
      "source": [
        "Calculate the new sizes for the x, y, and z dimensions based on the old sizes and pixel sizes."
      ]
    },
    {
      "cell_type": "code",
      "execution_count": null,
      "metadata": {
        "id": "TnJVe58fzRMo"
      },
      "outputs": [],
      "source": [
        "x_new = np.round(input_image.shape[1]*pixelsize_old/pixelsize_new).astype('int')\n",
        "y_new = np.round(input_image.shape[2]*pixelsize_old/pixelsize_new).astype('int')\n",
        "z_new = np.arange(z_old[0], z_old[-1], slice_thickness_new)"
      ]
    },
    {
      "cell_type": "code",
      "execution_count": null,
      "metadata": {
        "colab": {
          "base_uri": "https://localhost:8080/"
        },
        "id": "uisqdr7Pze89",
        "outputId": "97229c14-2b25-4b4f-eae3-b62b6a72e814"
      },
      "outputs": [
        {
          "name": "stdout",
          "output_type": "stream",
          "text": [
            "[  0.     0.65   1.3    1.95   2.6    3.25   3.9    4.55   5.2    5.85\n",
            "   6.5    7.15   7.8    8.45   9.1    9.75  10.4   11.05  11.7   12.35\n",
            "  13.    13.65  14.3   14.95  15.6   16.25  16.9   17.55  18.2   18.85\n",
            "  19.5   20.15  20.8   21.45  22.1   22.75  23.4   24.05  24.7   25.35\n",
            "  26.    26.65  27.3   27.95  28.6   29.25  29.9   30.55  31.2   31.85\n",
            "  32.5   33.15  33.8   34.45  35.1   35.75  36.4   37.05  37.7   38.35\n",
            "  39.    39.65  40.3   40.95  41.6   42.25  42.9   43.55  44.2   44.85\n",
            "  45.5   46.15  46.8   47.45  48.1   48.75  49.4   50.05  50.7   51.35\n",
            "  52.    52.65  53.3   53.95  54.6   55.25  55.9   56.55  57.2   57.85\n",
            "  58.5   59.15  59.8   60.45  61.1   61.75  62.4   63.05  63.7   64.35\n",
            "  65.    65.65  66.3   66.95  67.6   68.25  68.9   69.55  70.2   70.85\n",
            "  71.5   72.15  72.8   73.45  74.1   74.75  75.4   76.05  76.7   77.35\n",
            "  78.    78.65  79.3   79.95  80.6   81.25  81.9   82.55  83.2   83.85\n",
            "  84.5   85.15  85.8   86.45  87.1   87.75  88.4   89.05  89.7   90.35\n",
            "  91.    91.65  92.3   92.95  93.6   94.25  94.9   95.55  96.2   96.85\n",
            "  97.5   98.15  98.8   99.45 100.1  100.75 101.4  102.05 102.7  103.35\n",
            " 104.   104.65 105.3  105.95 106.6  107.25 107.9  108.55 109.2  109.85\n",
            " 110.5  111.15 111.8  112.45 113.1  113.75 114.4  115.05 115.7  116.35\n",
            " 117.   117.65 118.3  118.95 119.6  120.25 120.9  121.55 122.2  122.85\n",
            " 123.5  124.15 124.8  125.45 126.1  126.75 127.4  128.05 128.7  129.35\n",
            " 130.   130.65 131.3  131.95 132.6  133.25 133.9  134.55 135.2  135.85\n",
            " 136.5  137.15 137.8  138.45 139.1  139.75 140.4  141.05 141.7  142.35\n",
            " 143.   143.65 144.3  144.95 145.6  146.25 146.9  147.55 148.2  148.85\n",
            " 149.5  150.15 150.8  151.45 152.1  152.75 153.4  154.05 154.7  155.35\n",
            " 156.   156.65 157.3  157.95 158.6  159.25 159.9  160.55 161.2  161.85\n",
            " 162.5  163.15 163.8 ]\n"
          ]
        }
      ],
      "source": [
        "print(z_new) # With spacing 20 the result would be: array([    0,   20,   40,  60,  ......]"
      ]
    },
    {
      "cell_type": "markdown",
      "metadata": {
        "id": "wfwLhChU0s04"
      },
      "source": [
        "Generate a new grid of points pts using np.indices(), which represents the coordinates of the new image grid. Reshape the grid and transform into the appropriate format. Then, adjust the coordinates of the new grid points pts to match the new pixel size and slice thickness."
      ]
    },
    {
      "cell_type": "code",
      "execution_count": null,
      "metadata": {
        "id": "7zCxkSmOzr7c"
      },
      "outputs": [],
      "source": [
        "# pts is the new grid\n",
        "pts = np.indices((len(z_new), x_new, y_new)).transpose((1, 2, 3, 0))\n",
        "pts = pts.reshape(1, len(z_new)*x_new*y_new, 1, 3).reshape(len(z_new)*x_new*y_new, 3)\n",
        "pts = np.array(pts, dtype=float)\n",
        "pts[:, 1:3] = pts[:, 1:3]*pixelsize_new\n",
        "pts[:, 0] = pts[:, 0]*slice_thickness_new +z_new[0]"
      ]
    },
    {
      "cell_type": "code",
      "execution_count": null,
      "metadata": {
        "colab": {
          "base_uri": "https://localhost:8080/"
        },
        "id": "Igt9syKA2XVx",
        "outputId": "f3565135-74c4-4864-a009-47076bd266a2"
      },
      "outputs": [
        {
          "data": {
            "text/plain": [
              "(66322432, 3)"
            ]
          },
          "execution_count": 15,
          "metadata": {},
          "output_type": "execute_result"
        }
      ],
      "source": [
        "pts.shape"
      ]
    },
    {
      "cell_type": "code",
      "execution_count": null,
      "metadata": {
        "colab": {
          "base_uri": "https://localhost:8080/"
        },
        "id": "L4Twt3e721ri",
        "outputId": "78592017-a0cc-4c2e-ca60-b4c054514533"
      },
      "outputs": [
        {
          "name": "stdout",
          "output_type": "stream",
          "text": [
            "Total z slices =  253.0\n"
          ]
        }
      ],
      "source": [
        "print(\"Total z slices = \", pts.shape[0]/(input_image.shape[1]*input_image.shape[2]))"
      ]
    },
    {
      "cell_type": "markdown",
      "metadata": {
        "id": "viSXWmoc0_xs"
      },
      "source": [
        "Perform interpolation by calling the my_interpolating_object on the new grid points pts. Then reshape interpolated_data to match the new dimensions of the interpolated image."
      ]
    },
    {
      "cell_type": "code",
      "execution_count": null,
      "metadata": {
        "id": "96g4rgGUzyvc"
      },
      "outputs": [],
      "source": [
        "# Interpolate\n",
        "interpolated_data = my_interpolating_object(pts)\n",
        "interpolated_data = interpolated_data.reshape(len(z_new), x_new, y_new)"
      ]
    },
    {
      "cell_type": "code",
      "execution_count": null,
      "metadata": {
        "colab": {
          "base_uri": "https://localhost:8080/"
        },
        "id": "by39IiY-2xYT",
        "outputId": "f660cddd-5d95-4993-d379-8cdda7ce253b"
      },
      "outputs": [
        {
          "data": {
            "text/plain": [
              "(253, 512, 512)"
            ]
          },
          "execution_count": 18,
          "metadata": {},
          "output_type": "execute_result"
        }
      ],
      "source": [
        "interpolated_data.shape"
      ]
    },
    {
      "cell_type": "markdown",
      "metadata": {
        "id": "yEaFpZiB1NbN"
      },
      "source": [
        "Convert to 8 bit (or 16 bit) "
      ]
    },
    {
      "cell_type": "code",
      "execution_count": null,
      "metadata": {
        "id": "1-iRHzDc0Kdc"
      },
      "outputs": [],
      "source": [
        "#interpolated_data_16bit = interpolated_data.astype(np.uint16)"
      ]
    },
    {
      "cell_type": "code",
      "execution_count": null,
      "metadata": {
        "id": "mJI90r4A07ea"
      },
      "outputs": [],
      "source": [
        "interpolated_data_16bit = (np.round(((interpolated_data - interpolated_data.min())/interpolated_data.max()) * 65535.0)).astype(np.uint16)"
      ]
    },
    {
      "cell_type": "markdown",
      "metadata": {
        "id": "OPajEMpN4459"
      },
      "source": [
        "Save the output as tiff image. "
      ]
    },
    {
      "cell_type": "code",
      "execution_count": null,
      "metadata": {
        "id": "iCBZZ38p2ExJ"
      },
      "outputs": [],
      "source": [
        "um_to_nm_scaling = 1000\n",
        "metadata={'spacing': slice_thickness_new/um_to_nm_scaling, 'unit': 'um', 'axes': 'ZYX'}\n",
        "imwrite(\"interpolated_image.tif\", interpolated_data_16bit, imagej=True,\n",
        "        resolution=(1/pixelsize_new*um_to_nm_scaling, 1/pixelsize_new*um_to_nm_scaling), metadata=metadata)\n"
      ]
    }
  ],
  "metadata": {
    "colab": {
      "provenance": []
    },
    "kernelspec": {
      "display_name": "Python 3",
      "name": "python3"
    },
    "language_info": {
      "name": "python"
    }
  },
  "nbformat": 4,
  "nbformat_minor": 0
}
