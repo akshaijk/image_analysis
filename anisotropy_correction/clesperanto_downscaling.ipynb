{
  "cells": [
    {
      "cell_type": "code",
      "execution_count": null,
      "metadata": {
        "colab": {
          "base_uri": "https://localhost:8080/"
        },
        "id": "LJqFCe9mD0QD",
        "outputId": "f425792d-a48e-4558-cddc-13cee61c1eeb"
      },
      "outputs": [
        {
          "name": "stdout",
          "output_type": "stream",
          "text": [
            "Collecting pocl-binary-distribution\n",
            "  Downloading pocl_binary_distribution-3.0-py2.py3-none-manylinux_2_17_x86_64.manylinux2014_x86_64.whl (58.1 MB)\n",
            "\u001b[2K     \u001b[90m━━━━━━━━━━━━━━━━━━━━━━━━━━━━━━━━━━━━━━━━\u001b[0m \u001b[32m58.1/58.1 MB\u001b[0m \u001b[31m17.4 MB/s\u001b[0m eta \u001b[36m0:00:00\u001b[0m\n",
            "\u001b[?25hInstalling collected packages: pocl-binary-distribution\n",
            "Successfully installed pocl-binary-distribution-3.0\n"
          ]
        }
      ],
      "source": [
        "pip install pocl-binary-distribution"
      ]
    },
    {
      "cell_type": "code",
      "execution_count": null,
      "metadata": {
        "colab": {
          "background_save": true
        },
        "id": "c9bbGubmC4D9",
        "outputId": "71a1dd2e-77b5-4202-b0de-50aa7d1d4ca7"
      },
      "outputs": [
        {
          "name": "stdout",
          "output_type": "stream",
          "text": [
            "Collecting pyclesperanto-prototype\n",
            "  Downloading pyclesperanto_prototype-0.24.1-py3-none-any.whl (617 kB)\n",
            "\u001b[2K     \u001b[90m━━━━━━━━━━━━━━━━━━━━━━━━━━━━━━━━━━━━━━━\u001b[0m \u001b[32m617.9/617.9 kB\u001b[0m \u001b[31m2.4 MB/s\u001b[0m eta \u001b[36m0:00:00\u001b[0m\n",
            "\u001b[?25hRequirement already satisfied: numpy!=1.19.4 in /usr/local/lib/python3.10/dist-packages (from pyclesperanto-prototype) (1.22.4)\n",
            "Collecting pyopencl (from pyclesperanto-prototype)\n",
            "  Downloading pyopencl-2023.1.1-cp310-cp310-manylinux_2_17_x86_64.manylinux2014_x86_64.whl (919 kB)\n",
            "\u001b[2K     \u001b[90m━━━━━━━━━━━━━━━━━━━━━━━━━━━━━━━━━━━━━━\u001b[0m \u001b[32m919.2/919.2 kB\u001b[0m \u001b[31m31.5 MB/s\u001b[0m eta \u001b[36m0:00:00\u001b[0m\n",
            "\u001b[?25hRequirement already satisfied: toolz in /usr/local/lib/python3.10/dist-packages (from pyclesperanto-prototype) (0.12.0)\n",
            "Requirement already satisfied: scikit-image!=0.20.0,>=0.18.0 in /usr/local/lib/python3.10/dist-packages (from pyclesperanto-prototype) (0.19.3)\n",
            "Requirement already satisfied: matplotlib in /usr/local/lib/python3.10/dist-packages (from pyclesperanto-prototype) (3.7.1)\n",
            "Collecting transforms3d (from pyclesperanto-prototype)\n",
            "  Downloading transforms3d-0.4.1.tar.gz (1.4 MB)\n",
            "\u001b[2K     \u001b[90m━━━━━━━━━━━━━━━━━━━━━━━━━━━━━━━━━━━━━━━━\u001b[0m \u001b[32m1.4/1.4 MB\u001b[0m \u001b[31m47.0 MB/s\u001b[0m eta \u001b[36m0:00:00\u001b[0m\n",
            "\u001b[?25h  Preparing metadata (setup.py) ... \u001b[?25l\u001b[?25hdone\n",
            "Requirement already satisfied: scipy>=1.4.1 in /usr/local/lib/python3.10/dist-packages (from scikit-image!=0.20.0,>=0.18.0->pyclesperanto-prototype) (1.10.1)\n",
            "Requirement already satisfied: networkx>=2.2 in /usr/local/lib/python3.10/dist-packages (from scikit-image!=0.20.0,>=0.18.0->pyclesperanto-prototype) (3.1)\n",
            "Requirement already satisfied: pillow!=7.1.0,!=7.1.1,!=8.3.0,>=6.1.0 in /usr/local/lib/python3.10/dist-packages (from scikit-image!=0.20.0,>=0.18.0->pyclesperanto-prototype) (9.4.0)\n",
            "Requirement already satisfied: imageio>=2.4.1 in /usr/local/lib/python3.10/dist-packages (from scikit-image!=0.20.0,>=0.18.0->pyclesperanto-prototype) (2.25.1)\n",
            "Requirement already satisfied: tifffile>=2019.7.26 in /usr/local/lib/python3.10/dist-packages (from scikit-image!=0.20.0,>=0.18.0->pyclesperanto-prototype) (2023.7.18)\n",
            "Requirement already satisfied: PyWavelets>=1.1.1 in /usr/local/lib/python3.10/dist-packages (from scikit-image!=0.20.0,>=0.18.0->pyclesperanto-prototype) (1.4.1)\n",
            "Requirement already satisfied: packaging>=20.0 in /usr/local/lib/python3.10/dist-packages (from scikit-image!=0.20.0,>=0.18.0->pyclesperanto-prototype) (23.1)\n",
            "Requirement already satisfied: contourpy>=1.0.1 in /usr/local/lib/python3.10/dist-packages (from matplotlib->pyclesperanto-prototype) (1.1.0)\n",
            "Requirement already satisfied: cycler>=0.10 in /usr/local/lib/python3.10/dist-packages (from matplotlib->pyclesperanto-prototype) (0.11.0)\n",
            "Requirement already satisfied: fonttools>=4.22.0 in /usr/local/lib/python3.10/dist-packages (from matplotlib->pyclesperanto-prototype) (4.41.1)\n",
            "Requirement already satisfied: kiwisolver>=1.0.1 in /usr/local/lib/python3.10/dist-packages (from matplotlib->pyclesperanto-prototype) (1.4.4)\n",
            "Requirement already satisfied: pyparsing>=2.3.1 in /usr/local/lib/python3.10/dist-packages (from matplotlib->pyclesperanto-prototype) (3.1.0)\n",
            "Requirement already satisfied: python-dateutil>=2.7 in /usr/local/lib/python3.10/dist-packages (from matplotlib->pyclesperanto-prototype) (2.8.2)\n",
            "Collecting pytools>=2021.2.7 (from pyopencl->pyclesperanto-prototype)\n",
            "  Downloading pytools-2023.1.1-py2.py3-none-any.whl (70 kB)\n",
            "\u001b[2K     \u001b[90m━━━━━━━━━━━━━━━━━━━━━━━━━━━━━━━━━━━━━━━━\u001b[0m \u001b[32m70.6/70.6 kB\u001b[0m \u001b[31m9.8 MB/s\u001b[0m eta \u001b[36m0:00:00\u001b[0m\n",
            "\u001b[?25hRequirement already satisfied: platformdirs>=2.2.0 in /usr/local/lib/python3.10/dist-packages (from pyopencl->pyclesperanto-prototype) (3.9.1)\n",
            "Requirement already satisfied: six>=1.5 in /usr/local/lib/python3.10/dist-packages (from python-dateutil>=2.7->matplotlib->pyclesperanto-prototype) (1.16.0)\n",
            "Requirement already satisfied: typing-extensions>=4.0 in /usr/local/lib/python3.10/dist-packages (from pytools>=2021.2.7->pyopencl->pyclesperanto-prototype) (4.7.1)\n",
            "Building wheels for collected packages: transforms3d\n",
            "  Building wheel for transforms3d (setup.py) ... \u001b[?25l\u001b[?25hdone\n",
            "  Created wheel for transforms3d: filename=transforms3d-0.4.1-py3-none-any.whl size=1376757 sha256=93435f10088de2639d4d1ccebdb6c7b49cd192462826b172b58fcbebd3de67f8\n",
            "  Stored in directory: /root/.cache/pip/wheels/06/37/d0/6e0fe02010be074e8138f2b5ffff5254b74751aafb60bb5666\n",
            "Successfully built transforms3d\n",
            "Installing collected packages: transforms3d, pytools, pyopencl, pyclesperanto-prototype\n",
            "Successfully installed pyclesperanto-prototype-0.24.1 pyopencl-2023.1.1 pytools-2023.1.1 transforms3d-0.4.1\n"
          ]
        }
      ],
      "source": [
        "pip install pyclesperanto-prototype\n"
      ]
    },
    {
      "cell_type": "code",
      "execution_count": null,
      "metadata": {
        "id": "TMl5nrzN51eP"
      },
      "outputs": [],
      "source": [
        "from skimage import io\n",
        "from skimage.transform import rescale\n"
      ]
    },
    {
      "cell_type": "code",
      "execution_count": null,
      "metadata": {
        "id": "3l_GtRpkDVNe"
      },
      "outputs": [],
      "source": [
        "import pyclesperanto_prototype as cle\n"
      ]
    },
    {
      "cell_type": "code",
      "execution_count": null,
      "metadata": {
        "id": "XONsMBm__50X"
      },
      "outputs": [],
      "source": [
        "from matplotlib import pyplot as plt\n"
      ]
    },
    {
      "cell_type": "code",
      "execution_count": null,
      "metadata": {
        "id": "M88osy5FhmcB"
      },
      "outputs": [],
      "source": [
        "from tifffile import imsave, imwrite\n"
      ]
    },
    {
      "cell_type": "code",
      "execution_count": null,
      "metadata": {
        "id": "5PCZiCBI_VWd"
      },
      "outputs": [],
      "source": [
        "img = io.imread(r'/content/drive/MyDrive/cellpose_inputs/Lateral_line_10-65_8bit.tif')\n"
      ]
    },
    {
      "cell_type": "code",
      "execution_count": null,
      "metadata": {
        "colab": {
          "base_uri": "https://localhost:8080/"
        },
        "id": "9rczeVtlcqtG",
        "outputId": "5ba9e4ce-cf86-4a97-db67-8bd453eeca23"
      },
      "outputs": [
        {
          "name": "stdout",
          "output_type": "stream",
          "text": [
            "[[[ 6  6  6 ...  7  7  9]\n",
            "  [ 6  6  6 ...  7  8  8]\n",
            "  [ 6  6  6 ...  6  7  7]\n",
            "  ...\n",
            "  [ 6  6  6 ...  7  8  6]\n",
            "  [ 6  7  6 ...  6  8  7]\n",
            "  [ 6  7  6 ...  7  6  8]]\n",
            "\n",
            " [[ 6  6  6 ...  6  7  9]\n",
            "  [ 6  7  6 ...  7  9  7]\n",
            "  [ 6  6  6 ...  9  7  9]\n",
            "  ...\n",
            "  [ 6  6  6 ...  6  7  7]\n",
            "  [ 6  6  6 ...  8  7  9]\n",
            "  [ 6  6  6 ...  7  6  6]]\n",
            "\n",
            " [[ 6  6  6 ...  7  8  7]\n",
            "  [ 6  7  6 ...  7  9  7]\n",
            "  [ 6  6  6 ... 13  8  7]\n",
            "  ...\n",
            "  [ 6  6  6 ...  6  6  6]\n",
            "  [ 6  6  7 ...  8  6  8]\n",
            "  [ 6  6  6 ...  8  6  6]]\n",
            "\n",
            " ...\n",
            "\n",
            " [[ 6  6  6 ...  8  6  6]\n",
            "  [ 6  6  6 ...  7  7  6]\n",
            "  [ 6  6  6 ...  6  9  7]\n",
            "  ...\n",
            "  [ 8  6  8 ...  6  7  6]\n",
            "  [ 8  7  7 ...  6  6  6]\n",
            "  [ 6 10  8 ...  6  6  6]]\n",
            "\n",
            " [[ 6  6  6 ...  7  7  6]\n",
            "  [ 6  6  6 ...  6  6  6]\n",
            "  [ 6  6  6 ...  8  9  6]\n",
            "  ...\n",
            "  [ 9  6  6 ...  6  7  6]\n",
            "  [ 8  8  7 ...  6  6  6]\n",
            "  [ 7  8  7 ...  6  6  6]]\n",
            "\n",
            " [[ 6  6  6 ...  6  7  6]\n",
            "  [ 6  6  6 ...  6  6  6]\n",
            "  [ 6  6  6 ... 10  8  7]\n",
            "  ...\n",
            "  [10  7  6 ...  7  6  6]\n",
            "  [ 8 10  7 ...  7  6  7]\n",
            "  [ 8  6  8 ...  6  6  7]]]\n"
          ]
        }
      ],
      "source": [
        "print(img)"
      ]
    },
    {
      "cell_type": "code",
      "execution_count": null,
      "metadata": {
        "colab": {
          "base_uri": "https://localhost:8080/"
        },
        "id": "ItvbzfUV_nHD",
        "outputId": "d3963cdb-728a-4a2a-b4e2-ef23e14d241a"
      },
      "outputs": [
        {
          "name": "stdout",
          "output_type": "stream",
          "text": [
            "(56, 272, 545)\n"
          ]
        }
      ],
      "source": [
        "print(img.shape) # usually in the format (z, y, x)\n"
      ]
    },
    {
      "cell_type": "code",
      "execution_count": null,
      "metadata": {
        "colab": {
          "base_uri": "https://localhost:8080/"
        },
        "id": "wY30WDEmPjY-",
        "outputId": "68b62a0b-4ec2-4f7c-fdfc-8dd203c8f6f9"
      },
      "outputs": [
        {
          "name": "stdout",
          "output_type": "stream",
          "text": [
            "Available OpenCL devices:['pthread-Intel(R) Xeon(R) CPU @ 2.20GHz', 'cupy backend (experimental)']\n"
          ]
        }
      ],
      "source": [
        "print(\"Available OpenCL devices:\" + str(cle.available_device_names()))\n"
      ]
    },
    {
      "cell_type": "code",
      "execution_count": null,
      "metadata": {
        "colab": {
          "base_uri": "https://localhost:8080/"
        },
        "id": "zBMBitD8PoY4",
        "outputId": "bac2456e-c585-41ba-f8f5-9b90cb85d979"
      },
      "outputs": [
        {
          "name": "stdout",
          "output_type": "stream",
          "text": [
            "Used GPU:  <pthread-Intel(R) Xeon(R) CPU @ 2.20GHz on Platform: Portable Computing Language (2 refs)>\n"
          ]
        },
        {
          "name": "stderr",
          "output_type": "stream",
          "text": [
            "/usr/local/lib/python3.10/dist-packages/pyclesperanto_prototype/_tier0/_device.py:77: UserWarning: No OpenCL device found with pthread-Intel(R) Xeon(R) CPU @ 2.00GHz in their name. Using pthread-Intel(R) Xeon(R) CPU @ 2.20GHz instead.\n",
            "  warnings.warn(f\"No OpenCL device found with {name} in their name. Using {device.name} instead.\")\n"
          ]
        }
      ],
      "source": [
        "# insert the name of GPU from previous code here\n",
        "device = cle.select_device('pthread-Intel(R) Xeon(R) CPU @ 2.00GHz')\n",
        "print(\"Used GPU: \", device)"
      ]
    },
    {
      "cell_type": "code",
      "execution_count": null,
      "metadata": {
        "colab": {
          "base_uri": "https://localhost:8080/",
          "height": 167
        },
        "id": "ywvcn5EaPyv_",
        "outputId": "0fa2150a-2f09-44cf-e2d8-eab824cce29d"
      },
      "outputs": [
        {
          "data": {
            "image/png": "[encoded data removed]",
            "text/plain": [
              "<Figure size 640x480 with 1 Axes>"
            ]
          },
          "metadata": {},
          "output_type": "display_data"
        }
      ],
      "source": [
        "img_gpu = cle.push(img)\n",
        "cle.imshow(img_gpu[:,:,250], color_map='gray')"
      ]
    },
    {
      "cell_type": "code",
      "execution_count": null,
      "metadata": {
        "colab": {
          "base_uri": "https://localhost:8080/"
        },
        "id": "pOn48i2yc5rY",
        "outputId": "9fe5e70e-825e-45ee-b4f5-a7c458823c5b"
      },
      "outputs": [
        {
          "name": "stdout",
          "output_type": "stream",
          "text": [
            "[[[ 6.  6.  6. ...  7.  7.  9.]\n",
            "  [ 6.  6.  6. ...  7.  8.  8.]\n",
            "  [ 6.  6.  6. ...  6.  7.  7.]\n",
            "  ...\n",
            "  [ 6.  6.  6. ...  7.  8.  6.]\n",
            "  [ 6.  7.  6. ...  6.  8.  7.]\n",
            "  [ 6.  7.  6. ...  7.  6.  8.]]\n",
            "\n",
            " [[ 6.  6.  6. ...  6.  7.  9.]\n",
            "  [ 6.  7.  6. ...  7.  9.  7.]\n",
            "  [ 6.  6.  6. ...  9.  7.  9.]\n",
            "  ...\n",
            "  [ 6.  6.  6. ...  6.  7.  7.]\n",
            "  [ 6.  6.  6. ...  8.  7.  9.]\n",
            "  [ 6.  6.  6. ...  7.  6.  6.]]\n",
            "\n",
            " [[ 6.  6.  6. ...  7.  8.  7.]\n",
            "  [ 6.  7.  6. ...  7.  9.  7.]\n",
            "  [ 6.  6.  6. ... 13.  8.  7.]\n",
            "  ...\n",
            "  [ 6.  6.  6. ...  6.  6.  6.]\n",
            "  [ 6.  6.  7. ...  8.  6.  8.]\n",
            "  [ 6.  6.  6. ...  8.  6.  6.]]\n",
            "\n",
            " ...\n",
            "\n",
            " [[ 6.  6.  6. ...  8.  6.  6.]\n",
            "  [ 6.  6.  6. ...  7.  7.  6.]\n",
            "  [ 6.  6.  6. ...  6.  9.  7.]\n",
            "  ...\n",
            "  [ 8.  6.  8. ...  6.  7.  6.]\n",
            "  [ 8.  7.  7. ...  6.  6.  6.]\n",
            "  [ 6. 10.  8. ...  6.  6.  6.]]\n",
            "\n",
            " [[ 6.  6.  6. ...  7.  7.  6.]\n",
            "  [ 6.  6.  6. ...  6.  6.  6.]\n",
            "  [ 6.  6.  6. ...  8.  9.  6.]\n",
            "  ...\n",
            "  [ 9.  6.  6. ...  6.  7.  6.]\n",
            "  [ 8.  8.  7. ...  6.  6.  6.]\n",
            "  [ 7.  8.  7. ...  6.  6.  6.]]\n",
            "\n",
            " [[ 6.  6.  6. ...  6.  7.  6.]\n",
            "  [ 6.  6.  6. ...  6.  6.  6.]\n",
            "  [ 6.  6.  6. ... 10.  8.  7.]\n",
            "  ...\n",
            "  [10.  7.  6. ...  7.  6.  6.]\n",
            "  [ 8. 10.  7. ...  7.  6.  7.]\n",
            "  [ 8.  6.  8. ...  6.  6.  7.]]]\n"
          ]
        }
      ],
      "source": [
        "print(img_gpu)"
      ]
    },
    {
      "cell_type": "code",
      "execution_count": null,
      "metadata": {
        "id": "hcHbbjcadNkc"
      },
      "outputs": [],
      "source": [
        "import numpy as np\n"
      ]
    },
    {
      "cell_type": "code",
      "execution_count": null,
      "metadata": {
        "colab": {
          "base_uri": "https://localhost:8080/",
          "height": 130
        },
        "id": "9Z9DSoEDda4m",
        "outputId": "8fa7bbd5-325e-4e53-ba8b-f1797684f0dd"
      },
      "outputs": [
        {
          "ename": "SyntaxError",
          "evalue": "ignored",
          "output_type": "error",
          "traceback": [
            "\u001b[0;36m  File \u001b[0;32m\"<ipython-input-16-3fd552944ee4>\"\u001b[0;36m, line \u001b[0;32m1\u001b[0m\n\u001b[0;31m    Checks if the image is 8 bit or 32 bit or 16 bit\u001b[0m\n\u001b[0m    ^\u001b[0m\n\u001b[0;31mSyntaxError\u001b[0m\u001b[0;31m:\u001b[0m expected 'else' after 'if' expression\n"
          ]
        }
      ],
      "source": [
        "Checks if the image is 8 bit or 32 bit or 16 bit"
      ]
    },
    {
      "cell_type": "code",
      "execution_count": null,
      "metadata": {
        "colab": {
          "base_uri": "https://localhost:8080/"
        },
        "id": "IXXkt1EcdPLP",
        "outputId": "9088421e-4412-4ac0-c23d-daec1426a246"
      },
      "outputs": [
        {
          "data": {
            "text/plain": [
              "dtype('uint8')"
            ]
          },
          "execution_count": 17,
          "metadata": {},
          "output_type": "execute_result"
        }
      ],
      "source": [
        "img.dtype"
      ]
    },
    {
      "cell_type": "code",
      "execution_count": null,
      "metadata": {
        "colab": {
          "base_uri": "https://localhost:8080/"
        },
        "id": "BWJfPfy1dgWU",
        "outputId": "e11f259f-1f1d-4f3d-e639-e0813779326c"
      },
      "outputs": [
        {
          "data": {
            "text/plain": [
              "dtype('float32')"
            ]
          },
          "execution_count": 18,
          "metadata": {},
          "output_type": "execute_result"
        }
      ],
      "source": [
        "img_gpu.dtype"
      ]
    },
    {
      "cell_type": "code",
      "execution_count": null,
      "metadata": {
        "colab": {
          "base_uri": "https://localhost:8080/",
          "height": 165
        },
        "id": "kW4QFN5z_wKi",
        "outputId": "bb98bc1f-f646-43e8-8bba-5b719c3cc360"
      },
      "outputs": [
        {
          "ename": "IndexError",
          "evalue": "ignored",
          "output_type": "error",
          "traceback": [
            "\u001b[0;31m---------------------------------------------------------------------------\u001b[0m",
            "\u001b[0;31mIndexError\u001b[0m                                Traceback (most recent call last)",
            "\u001b[0;32m<ipython-input-18-86d787f0a861>\u001b[0m in \u001b[0;36m<cell line: 1>\u001b[0;34m()\u001b[0m\n\u001b[0;32m----> 1\u001b[0;31m \u001b[0mplt\u001b[0m\u001b[0;34m.\u001b[0m\u001b[0mimshow\u001b[0m\u001b[0;34m(\u001b[0m\u001b[0mimg\u001b[0m\u001b[0;34m[\u001b[0m\u001b[0;34m:\u001b[0m\u001b[0;34m,\u001b[0m\u001b[0;34m:\u001b[0m\u001b[0;34m,\u001b[0m\u001b[0;36m818\u001b[0m\u001b[0;34m]\u001b[0m\u001b[0;34m,\u001b[0m \u001b[0mcmap\u001b[0m\u001b[0;34m=\u001b[0m\u001b[0;34m'Greys_r'\u001b[0m\u001b[0;34m)\u001b[0m    \u001b[0;31m# viewing in yz direction\u001b[0m\u001b[0;34m\u001b[0m\u001b[0;34m\u001b[0m\u001b[0m\n\u001b[0m",
            "\u001b[0;31mIndexError\u001b[0m: index 818 is out of bounds for axis 2 with size 545"
          ]
        }
      ],
      "source": [
        "plt.imshow(img[:,:,818], cmap='Greys_r')    # viewing in yz direction\n"
      ]
    },
    {
      "cell_type": "code",
      "execution_count": null,
      "metadata": {
        "colab": {
          "base_uri": "https://localhost:8080/",
          "height": 165
        },
        "id": "EjQREvA3Aogl",
        "outputId": "6ddead3b-1ab8-43a3-c115-a264eafffdb6"
      },
      "outputs": [
        {
          "ename": "IndexError",
          "evalue": "ignored",
          "output_type": "error",
          "traceback": [
            "\u001b[0;31m---------------------------------------------------------------------------\u001b[0m",
            "\u001b[0;31mIndexError\u001b[0m                                Traceback (most recent call last)",
            "\u001b[0;32m<ipython-input-19-2d882d4537e5>\u001b[0m in \u001b[0;36m<cell line: 1>\u001b[0;34m()\u001b[0m\n\u001b[0;32m----> 1\u001b[0;31m \u001b[0mplt\u001b[0m\u001b[0;34m.\u001b[0m\u001b[0mimshow\u001b[0m\u001b[0;34m(\u001b[0m\u001b[0mimg\u001b[0m\u001b[0;34m[\u001b[0m\u001b[0;34m:\u001b[0m\u001b[0;34m,\u001b[0m\u001b[0;36m409\u001b[0m\u001b[0;34m,\u001b[0m\u001b[0;34m:\u001b[0m\u001b[0;34m]\u001b[0m\u001b[0;34m,\u001b[0m \u001b[0mcmap\u001b[0m\u001b[0;34m=\u001b[0m\u001b[0;34m'Greys_r'\u001b[0m\u001b[0;34m)\u001b[0m    \u001b[0;31m# viewing in yz direction\u001b[0m\u001b[0;34m\u001b[0m\u001b[0;34m\u001b[0m\u001b[0m\n\u001b[0m",
            "\u001b[0;31mIndexError\u001b[0m: index 409 is out of bounds for axis 1 with size 272"
          ]
        }
      ],
      "source": [
        "plt.imshow(img[:,409,:], cmap='Greys_r')    # viewing in yz direction\n"
      ]
    },
    {
      "cell_type": "code",
      "execution_count": null,
      "metadata": {
        "id": "dXP9VzsHCr2z"
      },
      "outputs": [],
      "source": [
        "voxelsize_x = 0.10\n",
        "voxelsize_y = 0.10\n",
        "voxelsize_z = 0.22"
      ]
    },
    {
      "cell_type": "code",
      "execution_count": null,
      "metadata": {
        "id": "FzZ3B7xutFzO"
      },
      "outputs": [],
      "source": [
        "voxelsize_8bit_x = 0.3\n",
        "voxelsize_8bit_y = 0.3\n",
        "voxelsize_8bit_z = 0.3"
      ]
    },
    {
      "cell_type": "code",
      "execution_count": null,
      "metadata": {
        "id": "vDGw65S6CziX"
      },
      "outputs": [],
      "source": [
        "img_downscaled = cle.scale(img_gpu, factor_x = voxelsize_x/3, factor_y = voxelsize_y/3, factor_z = voxelsize_z/0.3, auto_size = True)\n"
      ]
    },
    {
      "cell_type": "code",
      "execution_count": null,
      "metadata": {
        "id": "GdfnS7oFtSKE"
      },
      "outputs": [],
      "source": [
        "img_downscaled_2 = cle.scale(img_gpu, factor_x = voxelsize_8bit_x/1.36, factor_y = voxelsize_8bit_y/1.36, factor_z = voxelsize_8bit_y/1.35, auto_size = True)\n"
      ]
    },
    {
      "cell_type": "code",
      "execution_count": null,
      "metadata": {
        "colab": {
          "base_uri": "https://localhost:8080/"
        },
        "id": "TN1ixhE-Z-ty",
        "outputId": "0dae6f64-4b49-42e6-85f5-86a48736d718"
      },
      "outputs": [
        {
          "name": "stdout",
          "output_type": "stream",
          "text": [
            "(12, 60, 120)\n"
          ]
        }
      ],
      "source": [
        "print(img_downscaled_2.shape)"
      ]
    },
    {
      "cell_type": "code",
      "execution_count": null,
      "metadata": {
        "colab": {
          "base_uri": "https://localhost:8080/"
        },
        "id": "fYvn0o2QQpzX",
        "outputId": "b01dfd02-b409-4a2f-b0a9-71d81438d4ae"
      },
      "outputs": [
        {
          "data": {
            "text/plain": [
              "pyclesperanto_prototype._tier0._pycl.OCLArray"
            ]
          },
          "execution_count": 41,
          "metadata": {},
          "output_type": "execute_result"
        }
      ],
      "source": [
        "type(img_downscaled_2)"
      ]
    },
    {
      "cell_type": "code",
      "execution_count": null,
      "metadata": {
        "colab": {
          "base_uri": "https://localhost:8080/",
          "height": 165
        },
        "id": "VpjhReZueMXH",
        "outputId": "1b24260d-7307-4efe-a660-7cd535967ad5"
      },
      "outputs": [
        {
          "ename": "NameError",
          "evalue": "ignored",
          "output_type": "error",
          "traceback": [
            "\u001b[0;31m---------------------------------------------------------------------------\u001b[0m",
            "\u001b[0;31mNameError\u001b[0m                                 Traceback (most recent call last)",
            "\u001b[0;32m<ipython-input-40-1a674a583e19>\u001b[0m in \u001b[0;36m<cell line: 1>\u001b[0;34m()\u001b[0m\n\u001b[0;32m----> 1\u001b[0;31m \u001b[0mimg_downscaled\u001b[0m\u001b[0;34m.\u001b[0m\u001b[0mdtype\u001b[0m\u001b[0;34m\u001b[0m\u001b[0;34m\u001b[0m\u001b[0m\n\u001b[0m",
            "\u001b[0;31mNameError\u001b[0m: name 'img_downscaled' is not defined"
          ]
        }
      ],
      "source": [
        "img_downscaled.dtype"
      ]
    },
    {
      "cell_type": "code",
      "execution_count": null,
      "metadata": {
        "colab": {
          "base_uri": "https://localhost:8080/",
          "height": 200
        },
        "id": "NlP0VdeAk6oE",
        "outputId": "4af9d23b-f4ce-49c5-e21c-5b48199fecfe"
      },
      "outputs": [
        {
          "ename": "AttributeError",
          "evalue": "ignored",
          "output_type": "error",
          "traceback": [
            "\u001b[0;31m---------------------------------------------------------------------------\u001b[0m",
            "\u001b[0;31mAttributeError\u001b[0m                            Traceback (most recent call last)",
            "\u001b[0;32m<ipython-input-42-c583b3ee9054>\u001b[0m in \u001b[0;36m<cell line: 3>\u001b[0;34m()\u001b[0m\n\u001b[1;32m      1\u001b[0m \u001b[0;32mimport\u001b[0m \u001b[0msys\u001b[0m\u001b[0;34m\u001b[0m\u001b[0;34m\u001b[0m\u001b[0m\n\u001b[1;32m      2\u001b[0m \u001b[0;32mimport\u001b[0m \u001b[0mnumpy\u001b[0m\u001b[0;34m\u001b[0m\u001b[0;34m\u001b[0m\u001b[0m\n\u001b[0;32m----> 3\u001b[0;31m \u001b[0mnumpy\u001b[0m\u001b[0;34m.\u001b[0m\u001b[0mset_printoptions\u001b[0m\u001b[0;34m(\u001b[0m\u001b[0mthreshold\u001b[0m\u001b[0;34m=\u001b[0m\u001b[0msys\u001b[0m\u001b[0;34m.\u001b[0m\u001b[0mminsize\u001b[0m\u001b[0;34m)\u001b[0m\u001b[0;34m\u001b[0m\u001b[0;34m\u001b[0m\u001b[0m\n\u001b[0m",
            "\u001b[0;31mAttributeError\u001b[0m: module 'sys' has no attribute 'minsize'"
          ]
        }
      ],
      "source": [
        "import sys\n",
        "import numpy\n",
        "numpy.set_printoptions(threshold=sys.minsize)"
      ]
    },
    {
      "cell_type": "code",
      "execution_count": null,
      "metadata": {
        "colab": {
          "base_uri": "https://localhost:8080/"
        },
        "id": "-wdrV8Gak98B",
        "outputId": "c1ef642a-0a63-4c7d-f682-affdc3a3e5ba"
      },
      "outputs": [
        {
          "name": "stdout",
          "output_type": "stream",
          "text": [
            "[[[ 6  6  6 ...  7  7  9]\n",
            "  [ 6  6  6 ...  7  8  8]\n",
            "  [ 6  6  6 ...  6  7  7]\n",
            "  ...\n",
            "  [ 6  6  6 ...  7  8  6]\n",
            "  [ 6  7  6 ...  6  8  7]\n",
            "  [ 6  7  6 ...  7  6  8]]\n",
            "\n",
            " [[ 6  6  6 ...  6  7  9]\n",
            "  [ 6  7  6 ...  7  9  7]\n",
            "  [ 6  6  6 ...  9  7  9]\n",
            "  ...\n",
            "  [ 6  6  6 ...  6  7  7]\n",
            "  [ 6  6  6 ...  8  7  9]\n",
            "  [ 6  6  6 ...  7  6  6]]\n",
            "\n",
            " [[ 6  6  6 ...  7  8  7]\n",
            "  [ 6  7  6 ...  7  9  7]\n",
            "  [ 6  6  6 ... 13  8  7]\n",
            "  ...\n",
            "  [ 6  6  6 ...  6  6  6]\n",
            "  [ 6  6  7 ...  8  6  8]\n",
            "  [ 6  6  6 ...  8  6  6]]\n",
            "\n",
            " ...\n",
            "\n",
            " [[ 6  6  6 ...  8  6  6]\n",
            "  [ 6  6  6 ...  7  7  6]\n",
            "  [ 6  6  6 ...  6  9  7]\n",
            "  ...\n",
            "  [ 8  6  8 ...  6  7  6]\n",
            "  [ 8  7  7 ...  6  6  6]\n",
            "  [ 6 10  8 ...  6  6  6]]\n",
            "\n",
            " [[ 6  6  6 ...  7  7  6]\n",
            "  [ 6  6  6 ...  6  6  6]\n",
            "  [ 6  6  6 ...  8  9  6]\n",
            "  ...\n",
            "  [ 9  6  6 ...  6  7  6]\n",
            "  [ 8  8  7 ...  6  6  6]\n",
            "  [ 7  8  7 ...  6  6  6]]\n",
            "\n",
            " [[ 6  6  6 ...  6  7  6]\n",
            "  [ 6  6  6 ...  6  6  6]\n",
            "  [ 6  6  6 ... 10  8  7]\n",
            "  ...\n",
            "  [10  7  6 ...  7  6  6]\n",
            "  [ 8 10  7 ...  7  6  7]\n",
            "  [ 8  6  8 ...  6  6  7]]]\n"
          ]
        }
      ],
      "source": [
        "print(img)"
      ]
    },
    {
      "cell_type": "code",
      "execution_count": null,
      "metadata": {
        "id": "6x10-Af1h2kl"
      },
      "outputs": [],
      "source": []
    },
    {
      "cell_type": "code",
      "execution_count": null,
      "metadata": {
        "colab": {
          "base_uri": "https://localhost:8080/",
          "height": 178
        },
        "id": "d79yQ2OPkGS2",
        "outputId": "95fce349-02c7-49df-ac2f-204cf064ea28"
      },
      "outputs": [
        {
          "data": {
            "text/plain": [
              "<matplotlib.image.AxesImage at 0x7c5397303940>"
            ]
          },
          "execution_count": 44,
          "metadata": {},
          "output_type": "execute_result"
        },
        {
          "data": {
            "image/png": "[encoded data removed]",
            "text/plain": [
              "<Figure size 640x480 with 1 Axes>"
            ]
          },
          "metadata": {},
          "output_type": "display_data"
        }
      ],
      "source": [
        "plt.imshow(img_downscaled_2[:,:,50], cmap='Greys_r')    # viewing in yz direction\n"
      ]
    },
    {
      "cell_type": "code",
      "execution_count": null,
      "metadata": {
        "colab": {
          "base_uri": "https://localhost:8080/",
          "height": 330
        },
        "id": "y8ecDQcnkSiK",
        "outputId": "ea13868a-4bb6-4988-fd11-4fb03acbc0b6"
      },
      "outputs": [
        {
          "data": {
            "text/plain": [
              "<matplotlib.image.AxesImage at 0x7b1ce4d62620>"
            ]
          },
          "execution_count": 44,
          "metadata": {},
          "output_type": "execute_result"
        },
        {
          "data": {
            "image/png": "[encoded data removed]",
            "text/plain": [
              "<Figure size 640x480 with 1 Axes>"
            ]
          },
          "metadata": {},
          "output_type": "display_data"
        }
      ],
      "source": [
        "plt.imshow(img_downscaled_2[46,:,:], cmap='Greys_r')    # viewing in xy direction\n"
      ]
    },
    {
      "cell_type": "code",
      "execution_count": null,
      "metadata": {
        "id": "N6UWfg3HkkCb"
      },
      "outputs": [],
      "source": []
    },
    {
      "cell_type": "code",
      "execution_count": null,
      "metadata": {
        "colab": {
          "base_uri": "https://localhost:8080/"
        },
        "id": "PHzz7USYVhcz",
        "outputId": "2b29a5d6-f687-467a-9377-81ff82d2aa0e"
      },
      "outputs": [
        {
          "name": "stdout",
          "output_type": "stream",
          "text": [
            "(24, 82, 164)\n"
          ]
        }
      ],
      "source": [
        "print(img_downscaled.shape)"
      ]
    },
    {
      "cell_type": "code",
      "execution_count": null,
      "metadata": {
        "id": "9izHylF4nQAr"
      },
      "outputs": [],
      "source": [
        "normalized_array = (img_downscaled - img_downscaled.min()) / (img_downscaled.max() - img_downscaled.min())\n"
      ]
    },
    {
      "cell_type": "code",
      "execution_count": null,
      "metadata": {
        "id": "1BYm30xnnodd"
      },
      "outputs": [],
      "source": [
        "scaled_array = (normalized_array * 255.0)\n"
      ]
    },
    {
      "cell_type": "code",
      "execution_count": null,
      "metadata": {
        "id": "AW46VEmIntZq"
      },
      "outputs": [],
      "source": [
        "arr_uint8 = scaled_array.astype(np.uint8)\n"
      ]
    },
    {
      "cell_type": "code",
      "execution_count": null,
      "metadata": {
        "id": "iGYrnpo6nvRx"
      },
      "outputs": [],
      "source": [
        "img_downscaled_8bit = arr_uint8"
      ]
    },
    {
      "cell_type": "code",
      "execution_count": null,
      "metadata": {
        "colab": {
          "base_uri": "https://localhost:8080/"
        },
        "id": "thKfZ-jDn1J-",
        "outputId": "3c9b9996-2d08-4594-886a-2ee8502c5b96"
      },
      "outputs": [
        {
          "data": {
            "text/plain": [
              "dtype('uint8')"
            ]
          },
          "execution_count": 42,
          "metadata": {},
          "output_type": "execute_result"
        }
      ],
      "source": [
        "img_downscaled_8bit.dtype"
      ]
    },
    {
      "cell_type": "code",
      "execution_count": null,
      "metadata": {
        "colab": {
          "base_uri": "https://localhost:8080/"
        },
        "id": "zIK0W3H5qhOM",
        "outputId": "38a6f009-6f39-4852-dd45-150cad3be949"
      },
      "outputs": [
        {
          "name": "stdout",
          "output_type": "stream",
          "text": [
            "(110, 816, 1636)\n"
          ]
        }
      ],
      "source": [
        "print(img.shape)"
      ]
    },
    {
      "cell_type": "code",
      "execution_count": null,
      "metadata": {
        "colab": {
          "base_uri": "https://localhost:8080/"
        },
        "id": "K-IeFygkn9YE",
        "outputId": "e454b433-5306-4837-e8c5-961672fcb343"
      },
      "outputs": [
        {
          "name": "stdout",
          "output_type": "stream",
          "text": [
            "(81, 272, 545)\n"
          ]
        }
      ],
      "source": [
        "print(img_downscaled_8bit.shape)"
      ]
    },
    {
      "cell_type": "markdown",
      "metadata": {
        "id": "pJSMQHJu2ZQE"
      },
      "source": [
        "Original image had the shape (110, 816, 1636) and was of resolution 0.1 along the x axis. The new image is isotropic. New image is of shape (81, 272, 545).\n",
        "For calculating the new resolution solve for the equation 545 = (1636 * 0.1)/new_resolution. Similar calculation for y axis as well. The new resolution is 0.3 as we performed a voxelsize/0.3 calculation"
      ]
    },
    {
      "cell_type": "code",
      "execution_count": null,
      "metadata": {
        "id": "-ss9pbPUaZSl"
      },
      "outputs": [],
      "source": [
        "metadata={'spacing': 0.3 , 'unit': 'um', 'axes': 'ZYX'}\n",
        "imwrite(\"/content/drive/MyDrive/downscaled_lat_line_3D_6\", img_downscaled_8bit, imagej=True,\n",
        "        resolution=(1./0.3, 1./0.3), metadata=metadata)"
      ]
    },
    {
      "cell_type": "code",
      "execution_count": null,
      "metadata": {
        "id": "OURP6360i1Gt"
      },
      "outputs": [],
      "source": []
    }
  ],
  "metadata": {
    "accelerator": "GPU",
    "colab": {
      "provenance": []
    },
    "kernelspec": {
      "display_name": "Python 3",
      "name": "python3"
    },
    "language_info": {
      "name": "python"
    }
  },
  "nbformat": 4,
  "nbformat_minor": 0
}