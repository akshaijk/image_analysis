{
  "cells": [
    {
      "cell_type": "markdown",
      "metadata": {
        "id": "lQb0OeIhsGXT"
      },
      "source": [
        "**Mount Google Drive**\n",
        "\n",
        "\n"
      ]
    },
    {
      "cell_type": "code",
      "execution_count": null,
      "metadata": {
        "colab": {
          "base_uri": "https://localhost:8080/"
        },
        "id": "XAADxXIZGh8L",
        "outputId": "ce511149-a951-4f18-b38e-54f6c3e48a62"
      },
      "outputs": [
        {
          "name": "stdout",
          "output_type": "stream",
          "text": [
            "Drive already mounted at /content/drive; to attempt to forcibly remount, call drive.mount(\"/content/drive\", force_remount=True).\n"
          ]
        }
      ],
      "source": [
        "from google.colab import drive\n",
        "drive.mount('/content/drive')"
      ]
    },
    {
      "cell_type": "markdown",
      "metadata": {
        "id": "_CNl6WXLsYNZ"
      },
      "source": [
        "**Install OpenCV and Cellpose in the Notebook**"
      ]
    },
    {
      "cell_type": "code",
      "execution_count": null,
      "metadata": {
        "colab": {
          "base_uri": "https://localhost:8080/"
        },
        "id": "XQoCHstCHiv_",
        "outputId": "7b81f7ee-4ada-4916-9246-a6e0243d8481"
      },
      "outputs": [
        {
          "name": "stdout",
          "output_type": "stream",
          "text": [
            "Collecting opencv-python-headless<4.3\n",
            "  Downloading opencv_python_headless-3.4.18.65-cp36-abi3-manylinux_2_17_x86_64.manylinux2014_x86_64.whl (45.7 MB)\n",
            "\u001b[2K     \u001b[90m━━━━━━━━━━━━━━━━━━━━━━━━━━━━━━━━━━━━━━━━\u001b[0m \u001b[32m45.7/45.7 MB\u001b[0m \u001b[31m15.5 MB/s\u001b[0m eta \u001b[36m0:00:00\u001b[0m\n",
            "\u001b[?25hRequirement already satisfied: numpy>=1.21.2 in /usr/local/lib/python3.10/dist-packages (from opencv-python-headless<4.3) (1.22.4)\n",
            "Installing collected packages: opencv-python-headless\n",
            "  Attempting uninstall: opencv-python-headless\n",
            "    Found existing installation: opencv-python-headless 4.8.0.74\n",
            "    Uninstalling opencv-python-headless-4.8.0.74:\n",
            "      Successfully uninstalled opencv-python-headless-4.8.0.74\n",
            "\u001b[31mERROR: pip's dependency resolver does not currently take into account all the packages that are installed. This behaviour is the source of the following dependency conflicts.\n",
            "albumentations 1.2.1 requires opencv-python-headless>=4.1.1, but you have opencv-python-headless 3.4.18.65 which is incompatible.\n",
            "qudida 0.0.4 requires opencv-python-headless>=4.0.1, but you have opencv-python-headless 3.4.18.65 which is incompatible.\u001b[0m\u001b[31m\n",
            "\u001b[0mSuccessfully installed opencv-python-headless-3.4.18.65\n",
            "Collecting cellpose\n",
            "  Downloading cellpose-2.2.2-py3-none-any.whl (171 kB)\n",
            "\u001b[2K     \u001b[90m━━━━━━━━━━━━━━━━━━━━━━━━━━━━━━━━━━━━━━━\u001b[0m \u001b[32m171.7/171.7 kB\u001b[0m \u001b[31m2.4 MB/s\u001b[0m eta \u001b[36m0:00:00\u001b[0m\n",
            "\u001b[?25hRequirement already satisfied: numpy>=1.20.0 in /usr/local/lib/python3.10/dist-packages (from cellpose) (1.22.4)\n",
            "Requirement already satisfied: scipy in /usr/local/lib/python3.10/dist-packages (from cellpose) (1.10.1)\n",
            "Requirement already satisfied: natsort in /usr/local/lib/python3.10/dist-packages (from cellpose) (8.3.1)\n",
            "Requirement already satisfied: tifffile in /usr/local/lib/python3.10/dist-packages (from cellpose) (2023.7.10)\n",
            "Requirement already satisfied: tqdm in /usr/local/lib/python3.10/dist-packages (from cellpose) (4.65.0)\n",
            "Requirement already satisfied: numba>=0.53.0 in /usr/local/lib/python3.10/dist-packages (from cellpose) (0.56.4)\n",
            "Requirement already satisfied: llvmlite in /usr/local/lib/python3.10/dist-packages (from cellpose) (0.39.1)\n",
            "Requirement already satisfied: torch>=1.6 in /usr/local/lib/python3.10/dist-packages (from cellpose) (2.0.1+cu118)\n",
            "Requirement already satisfied: opencv-python-headless in /usr/local/lib/python3.10/dist-packages (from cellpose) (3.4.18.65)\n",
            "Collecting fastremap (from cellpose)\n",
            "  Downloading fastremap-1.13.5-cp310-cp310-manylinux_2_17_x86_64.manylinux2014_x86_64.whl (4.7 MB)\n",
            "\u001b[2K     \u001b[90m━━━━━━━━━━━━━━━━━━━━━━━━━━━━━━━━━━━━━━━━\u001b[0m \u001b[32m4.7/4.7 MB\u001b[0m \u001b[31m14.1 MB/s\u001b[0m eta \u001b[36m0:00:00\u001b[0m\n",
            "\u001b[?25hCollecting imagecodecs (from cellpose)\n",
            "  Downloading imagecodecs-2023.7.10-cp310-cp310-manylinux_2_17_x86_64.manylinux2014_x86_64.whl (34.4 MB)\n",
            "\u001b[2K     \u001b[90m━━━━━━━━━━━━━━━━━━━━━━━━━━━━━━━━━━━━━━━━\u001b[0m \u001b[32m34.4/34.4 MB\u001b[0m \u001b[31m37.9 MB/s\u001b[0m eta \u001b[36m0:00:00\u001b[0m\n",
            "\u001b[?25hCollecting roifile (from cellpose)\n",
            "  Downloading roifile-2023.5.12-py3-none-any.whl (15 kB)\n",
            "Requirement already satisfied: setuptools in /usr/local/lib/python3.10/dist-packages (from numba>=0.53.0->cellpose) (67.7.2)\n",
            "Requirement already satisfied: filelock in /usr/local/lib/python3.10/dist-packages (from torch>=1.6->cellpose) (3.12.2)\n",
            "Requirement already satisfied: typing-extensions in /usr/local/lib/python3.10/dist-packages (from torch>=1.6->cellpose) (4.7.1)\n",
            "Requirement already satisfied: sympy in /usr/local/lib/python3.10/dist-packages (from torch>=1.6->cellpose) (1.11.1)\n",
            "Requirement already satisfied: networkx in /usr/local/lib/python3.10/dist-packages (from torch>=1.6->cellpose) (3.1)\n",
            "Requirement already satisfied: jinja2 in /usr/local/lib/python3.10/dist-packages (from torch>=1.6->cellpose) (3.1.2)\n",
            "Requirement already satisfied: triton==2.0.0 in /usr/local/lib/python3.10/dist-packages (from torch>=1.6->cellpose) (2.0.0)\n",
            "Requirement already satisfied: cmake in /usr/local/lib/python3.10/dist-packages (from triton==2.0.0->torch>=1.6->cellpose) (3.25.2)\n",
            "Requirement already satisfied: lit in /usr/local/lib/python3.10/dist-packages (from triton==2.0.0->torch>=1.6->cellpose) (16.0.6)\n",
            "Requirement already satisfied: MarkupSafe>=2.0 in /usr/local/lib/python3.10/dist-packages (from jinja2->torch>=1.6->cellpose) (2.1.3)\n",
            "Requirement already satisfied: mpmath>=0.19 in /usr/local/lib/python3.10/dist-packages (from sympy->torch>=1.6->cellpose) (1.3.0)\n",
            "Installing collected packages: roifile, imagecodecs, fastremap, cellpose\n",
            "Successfully installed cellpose-2.2.2 fastremap-1.13.5 imagecodecs-2023.7.10 roifile-2023.5.12\n",
            "Collecting pyclesperanto-prototype\n",
            "  Downloading pyclesperanto_prototype-0.24.1-py3-none-any.whl (617 kB)\n",
            "\u001b[2K     \u001b[90m━━━━━━━━━━━━━━━━━━━━━━━━━━━━━━━━━━━━━━━\u001b[0m \u001b[32m617.9/617.9 kB\u001b[0m \u001b[31m6.9 MB/s\u001b[0m eta \u001b[36m0:00:00\u001b[0m\n",
            "\u001b[?25hRequirement already satisfied: numpy!=1.19.4 in /usr/local/lib/python3.10/dist-packages (from pyclesperanto-prototype) (1.22.4)\n",
            "Collecting pyopencl (from pyclesperanto-prototype)\n",
            "  Downloading pyopencl-2023.1.1-cp310-cp310-manylinux_2_17_x86_64.manylinux2014_x86_64.whl (919 kB)\n",
            "\u001b[2K     \u001b[90m━━━━━━━━━━━━━━━━━━━━━━━━━━━━━━━━━━━━━━\u001b[0m \u001b[32m919.2/919.2 kB\u001b[0m \u001b[31m12.2 MB/s\u001b[0m eta \u001b[36m0:00:00\u001b[0m\n",
            "\u001b[?25hRequirement already satisfied: toolz in /usr/local/lib/python3.10/dist-packages (from pyclesperanto-prototype) (0.12.0)\n",
            "Requirement already satisfied: scikit-image!=0.20.0,>=0.18.0 in /usr/local/lib/python3.10/dist-packages (from pyclesperanto-prototype) (0.19.3)\n",
            "Requirement already satisfied: matplotlib in /usr/local/lib/python3.10/dist-packages (from pyclesperanto-prototype) (3.7.1)\n",
            "Collecting transforms3d (from pyclesperanto-prototype)\n",
            "  Downloading transforms3d-0.4.1.tar.gz (1.4 MB)\n",
            "\u001b[2K     \u001b[90m━━━━━━━━━━━━━━━━━━━━━━━━━━━━━━━━━━━━━━━━\u001b[0m \u001b[32m1.4/1.4 MB\u001b[0m \u001b[31m16.8 MB/s\u001b[0m eta \u001b[36m0:00:00\u001b[0m\n",
            "\u001b[?25h  Preparing metadata (setup.py) ... \u001b[?25l\u001b[?25hdone\n",
            "Requirement already satisfied: scipy>=1.4.1 in /usr/local/lib/python3.10/dist-packages (from scikit-image!=0.20.0,>=0.18.0->pyclesperanto-prototype) (1.10.1)\n",
            "Requirement already satisfied: networkx>=2.2 in /usr/local/lib/python3.10/dist-packages (from scikit-image!=0.20.0,>=0.18.0->pyclesperanto-prototype) (3.1)\n",
            "Requirement already satisfied: pillow!=7.1.0,!=7.1.1,!=8.3.0,>=6.1.0 in /usr/local/lib/python3.10/dist-packages (from scikit-image!=0.20.0,>=0.18.0->pyclesperanto-prototype) (8.4.0)\n",
            "Requirement already satisfied: imageio>=2.4.1 in /usr/local/lib/python3.10/dist-packages (from scikit-image!=0.20.0,>=0.18.0->pyclesperanto-prototype) (2.25.1)\n",
            "Requirement already satisfied: tifffile>=2019.7.26 in /usr/local/lib/python3.10/dist-packages (from scikit-image!=0.20.0,>=0.18.0->pyclesperanto-prototype) (2023.7.10)\n",
            "Requirement already satisfied: PyWavelets>=1.1.1 in /usr/local/lib/python3.10/dist-packages (from scikit-image!=0.20.0,>=0.18.0->pyclesperanto-prototype) (1.4.1)\n",
            "Requirement already satisfied: packaging>=20.0 in /usr/local/lib/python3.10/dist-packages (from scikit-image!=0.20.0,>=0.18.0->pyclesperanto-prototype) (23.1)\n",
            "Requirement already satisfied: contourpy>=1.0.1 in /usr/local/lib/python3.10/dist-packages (from matplotlib->pyclesperanto-prototype) (1.1.0)\n",
            "Requirement already satisfied: cycler>=0.10 in /usr/local/lib/python3.10/dist-packages (from matplotlib->pyclesperanto-prototype) (0.11.0)\n",
            "Requirement already satisfied: fonttools>=4.22.0 in /usr/local/lib/python3.10/dist-packages (from matplotlib->pyclesperanto-prototype) (4.41.0)\n",
            "Requirement already satisfied: kiwisolver>=1.0.1 in /usr/local/lib/python3.10/dist-packages (from matplotlib->pyclesperanto-prototype) (1.4.4)\n",
            "Requirement already satisfied: pyparsing>=2.3.1 in /usr/local/lib/python3.10/dist-packages (from matplotlib->pyclesperanto-prototype) (3.1.0)\n",
            "Requirement already satisfied: python-dateutil>=2.7 in /usr/local/lib/python3.10/dist-packages (from matplotlib->pyclesperanto-prototype) (2.8.2)\n",
            "Collecting pytools>=2021.2.7 (from pyopencl->pyclesperanto-prototype)\n",
            "  Downloading pytools-2023.1-py2.py3-none-any.whl (70 kB)\n",
            "\u001b[2K     \u001b[90m━━━━━━━━━━━━━━━━━━━━━━━━━━━━━━━━━━━━━━━━\u001b[0m \u001b[32m70.4/70.4 kB\u001b[0m \u001b[31m8.3 MB/s\u001b[0m eta \u001b[36m0:00:00\u001b[0m\n",
            "\u001b[?25hRequirement already satisfied: platformdirs>=2.2.0 in /usr/local/lib/python3.10/dist-packages (from pyopencl->pyclesperanto-prototype) (3.9.1)\n",
            "Requirement already satisfied: six>=1.5 in /usr/local/lib/python3.10/dist-packages (from python-dateutil>=2.7->matplotlib->pyclesperanto-prototype) (1.16.0)\n",
            "Requirement already satisfied: typing-extensions>=4.0 in /usr/local/lib/python3.10/dist-packages (from pytools>=2021.2.7->pyopencl->pyclesperanto-prototype) (4.7.1)\n",
            "Building wheels for collected packages: transforms3d\n",
            "  Building wheel for transforms3d (setup.py) ... \u001b[?25l\u001b[?25hdone\n",
            "  Created wheel for transforms3d: filename=transforms3d-0.4.1-py3-none-any.whl size=1376757 sha256=563359008d624d1b62d4827dd02522340dac9efe0bd002bf19d88aab52c80562\n",
            "  Stored in directory: /root/.cache/pip/wheels/06/37/d0/6e0fe02010be074e8138f2b5ffff5254b74751aafb60bb5666\n",
            "Successfully built transforms3d\n",
            "Installing collected packages: transforms3d, pytools, pyopencl, pyclesperanto-prototype\n",
            "Successfully installed pyclesperanto-prototype-0.24.1 pyopencl-2023.1.1 pytools-2023.1 transforms3d-0.4.1\n"
          ]
        }
      ],
      "source": [
        "!pip install \"opencv-python-headless<4.3\"\n",
        "!pip install cellpose\n",
        "!pip install pyclesperanto-prototype\n"
      ]
    },
    {
      "cell_type": "markdown",
      "metadata": {
        "id": "jbpwIRs2svrq"
      },
      "source": [
        "**Enable GPU**"
      ]
    },
    {
      "cell_type": "code",
      "execution_count": null,
      "metadata": {
        "colab": {
          "base_uri": "https://localhost:8080/"
        },
        "id": "Tt8hgC7rniP8",
        "outputId": "ebd33405-6913-403f-8646-3b5daf7c6ef7"
      },
      "outputs": [
        {
          "name": "stdout",
          "output_type": "stream",
          "text": [
            "nvcc: NVIDIA (R) Cuda compiler driver\n",
            "Copyright (c) 2005-2022 NVIDIA Corporation\n",
            "Built on Wed_Sep_21_10:33:58_PDT_2022\n",
            "Cuda compilation tools, release 11.8, V11.8.89\n",
            "Build cuda_11.8.r11.8/compiler.31833905_0\n",
            "Sun Jul 23 17:30:58 2023       \n",
            "+-----------------------------------------------------------------------------+\n",
            "| NVIDIA-SMI 525.105.17   Driver Version: 525.105.17   CUDA Version: 12.0     |\n",
            "|-------------------------------+----------------------+----------------------+\n",
            "| GPU  Name        Persistence-M| Bus-Id        Disp.A | Volatile Uncorr. ECC |\n",
            "| Fan  Temp  Perf  Pwr:Usage/Cap|         Memory-Usage | GPU-Util  Compute M. |\n",
            "|                               |                      |               MIG M. |\n",
            "|===============================+======================+======================|\n",
            "|   0  Tesla T4            Off  | 00000000:00:04.0 Off |                    0 |\n",
            "| N/A   46C    P8     9W /  70W |      0MiB / 15360MiB |      0%      Default |\n",
            "|                               |                      |                  N/A |\n",
            "+-------------------------------+----------------------+----------------------+\n",
            "                                                                               \n",
            "+-----------------------------------------------------------------------------+\n",
            "| Processes:                                                                  |\n",
            "|  GPU   GI   CI        PID   Type   Process name                  GPU Memory |\n",
            "|        ID   ID                                                   Usage      |\n",
            "|=============================================================================|\n",
            "|  No running processes found                                                 |\n",
            "+-----------------------------------------------------------------------------+\n"
          ]
        }
      ],
      "source": [
        "!nvcc --version\n",
        "!nvidia-smi"
      ]
    },
    {
      "cell_type": "markdown",
      "metadata": {
        "id": "HUlH0Nb-s-nN"
      },
      "source": [
        "**Import the necessary libraries**"
      ]
    },
    {
      "cell_type": "code",
      "execution_count": null,
      "metadata": {
        "colab": {
          "base_uri": "https://localhost:8080/"
        },
        "id": "fq_6lmJiJNmp",
        "outputId": "849a1d5d-659b-4e1a-bc49-b82f2d30a5c6"
      },
      "outputs": [
        {
          "name": "stdout",
          "output_type": "stream",
          "text": [
            ">>> GPU activated? 1\n",
            "creating new log file\n"
          ]
        }
      ],
      "source": [
        "import numpy as np\n",
        "import time, os, sys\n",
        "from urllib.parse import urlparse\n",
        "import skimage.io\n",
        "import matplotlib.pyplot as plt\n",
        "import matplotlib as mpl\n",
        "import pyclesperanto_prototype as cle\n",
        "from skimage import filters\n",
        "from skimage.transform import rescale\n",
        "\n",
        "\n",
        "%matplotlib inline\n",
        "mpl.rcParams['figure.dpi'] = 300\n",
        "\n",
        "from urllib.parse import urlparse\n",
        "from cellpose import models, core\n",
        "\n",
        "use_GPU = core.use_gpu()\n",
        "print('>>> GPU activated? %d'%use_GPU)\n",
        "\n",
        "# call logger_setup to have output of cellpose written\n",
        "from cellpose.io import logger_setup\n",
        "logger_setup();"
      ]
    },
    {
      "cell_type": "markdown",
      "metadata": {
        "id": "1yEbVAN2DGmr"
      },
      "source": [
        "**Open the image**"
      ]
    },
    {
      "cell_type": "code",
      "execution_count": null,
      "metadata": {
        "id": "ldNwr_zxMVha"
      },
      "outputs": [],
      "source": [
        "from cellpose import utils\n",
        "# REPLACE FILES WITH YOUR IMAGE PATHS\n",
        "img_3D = skimage.io.imread(r'/content/drive/MyDrive/downscaled_lat_line_3D_6')\n"
      ]
    },
    {
      "cell_type": "markdown",
      "metadata": {
        "id": "X97HzGrnlkpU"
      },
      "source": [
        "**Rescale the image to adjust for any anisotropy using skikit**"
      ]
    },
    {
      "cell_type": "code",
      "execution_count": null,
      "metadata": {
        "id": "NxT4TuQGk7_z"
      },
      "outputs": [],
      "source": [
        "img_upscaled_3D = rescale(img_3D, [2.5, 1, 1])"
      ]
    },
    {
      "cell_type": "markdown",
      "metadata": {
        "id": "twazNSweDLqS"
      },
      "source": [
        "**Run the default, pretrained cellpose 3D model**"
      ]
    },
    {
      "cell_type": "code",
      "execution_count": null,
      "metadata": {
        "colab": {
          "base_uri": "https://localhost:8080/"
        },
        "id": "tE_1C91UL_gI",
        "outputId": "7cba5ec3-dce6-48df-e2a3-a9b613fae85a"
      },
      "outputs": [
        {
          "name": "stdout",
          "output_type": "stream",
          "text": [
            "running cellpose 2D slice flows => masks\n"
          ]
        }
      ],
      "source": [
        "from cellpose import models\n",
        "\n",
        "# DEFINE CELLPOSE MODEL\n",
        "# model_type='cyto' or model_type='nuclei'\n",
        "\n",
        "model = models.Cellpose(gpu=use_GPU, model_type='cyto')\n",
        "\n",
        "# model = models.Cellpose(gpu=use_GPU, model_type='nuclei')\n",
        "\n",
        "# define CHANNELS to run segementation on\n",
        "# grayscale=0, R=1, G=2, B=3\n",
        "# channels = [cytoplasm, nucleus]\n",
        "# if NUCLEUS channel does not exist, set the second channel to 0\n",
        "# channels = [0,0]\n",
        "# IF ALL YOUR IMAGES ARE THE SAME TYPE, you can give a list with 2 elements\n",
        "# channels = [0,0] # IF YOU HAVE GRAYSCALE\n",
        "# channels = [2,3] # IF YOU HAVE G=cytoplasm and B=nucleus\n",
        "# channels = [2,1] # IF YOU HAVE G=cytoplasm and R=nucleus\n",
        "\n",
        "# or if you have different types of channels in each image\n",
        "channels = [0,0]\n",
        "# channels = [1,1]\n",
        "\n",
        "# 1. computes flows from 2D slices and combines into 3D flows to create masks\n",
        "print('running cellpose 2D slice flows => masks')\n",
        "\n",
        "\n",
        "masks, flows, styles, _ = model.eval(img_3D, channels=[0,0], diameter=40,flow_threshold=0.9, do_3D=True)\n",
        "\n"
      ]
    },
    {
      "cell_type": "code",
      "execution_count": null,
      "metadata": {
        "id": "PBwld7TGRIzi"
      },
      "outputs": [],
      "source": [
        "diams=40"
      ]
    },
    {
      "cell_type": "markdown",
      "metadata": {
        "id": "dj4-uhFNDdyy"
      },
      "source": [
        "**Download the masks, outlines and cellpose as a seg.npy object. Need to open and extract masks using the codes to open masks**"
      ]
    },
    {
      "cell_type": "code",
      "execution_count": null,
      "metadata": {
        "id": "phkHIZvMOcQI"
      },
      "outputs": [],
      "source": [
        "from cellpose import io\n",
        "\n",
        "io.masks_flows_to_seg(img_3D,\n",
        "                      masks,\n",
        "                      flows,\n",
        "                      diams,\n",
        "                      file_names='/content/drive/MyDrive/Cellpose_Test/lateraline_segments_seg.npy',\n",
        "                      channels=[0, 0])"
      ]
    }
  ],
  "metadata": {
    "accelerator": "GPU",
    "colab": {
      "gpuType": "T4",
      "provenance": []
    },
    "kernelspec": {
      "display_name": "Python 3",
      "name": "python3"
    },
    "language_info": {
      "name": "python"
    }
  },
  "nbformat": 4,
  "nbformat_minor": 0
}
